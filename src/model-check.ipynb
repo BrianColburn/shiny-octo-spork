{
 "cells": [
  {
   "cell_type": "code",
   "execution_count": null,
   "id": "14d90f82",
   "metadata": {},
   "outputs": [],
   "source": [
    "import os; os.environ['KERAS_BACKEND'] = 'jax'\n",
    "import dataset\n",
    "import keras\n",
    "import pandas as pd\n",
    "import model\n",
    "import plotly.express as px\n",
    "import plotly.graph_objs as go\n",
    "import plotly.subplots"
   ]
  },
  {
   "cell_type": "code",
   "execution_count": null,
   "id": "fb832fa3",
   "metadata": {},
   "outputs": [],
   "source": [
    "os.chdir('..') # HACK, but this is a demo anyways"
   ]
  },
  {
   "cell_type": "code",
   "execution_count": null,
   "id": "76ac510a",
   "metadata": {},
   "outputs": [],
   "source": [
    "ts, xs, ys = dataset.mk_txy(dataset.fetch_testing_data())"
   ]
  },
  {
   "cell_type": "code",
   "execution_count": null,
   "id": "79a96a3c",
   "metadata": {},
   "outputs": [],
   "source": [
    "nn: keras.Model = keras.models.load_model('ann.keras')\n",
    "nn.summary()"
   ]
  },
  {
   "cell_type": "code",
   "execution_count": null,
   "id": "3462a272",
   "metadata": {},
   "outputs": [],
   "source": [
    "keras.utils.plot_model(nn, show_shapes=True, expand_nested=True, show_layer_activations=True, rankdir='TB', show_layer_names=True)"
   ]
  },
  {
   "cell_type": "code",
   "execution_count": null,
   "id": "5ff3c511",
   "metadata": {},
   "outputs": [],
   "source": [
    "outputs = pd.DataFrame(nn.predict(xs), columns=['mu', 'sigma'], index=ts).assign(\n",
    "    upper_bound=lambda df: df['mu'] + df['sigma'],\n",
    "    lower_bound=lambda df: df['mu'] - df['sigma'],\n",
    ")"
   ]
  },
  {
   "cell_type": "code",
   "execution_count": null,
   "id": "b600bf59",
   "metadata": {},
   "outputs": [],
   "source": [
    "fig = plotly.subplots.make_subplots(\n",
    "    rows=2,\n",
    "    shared_xaxes=True,\n",
    "    row_heights=[1,5],\n",
    ")\n",
    "fig.print_grid()"
   ]
  },
  {
   "cell_type": "code",
   "execution_count": null,
   "id": "bc67c775",
   "metadata": {},
   "outputs": [],
   "source": [
    "fig.add_trace(\n",
    "    go.Scatter(\n",
    "        x=outputs.index,\n",
    "        y=outputs['sigma'],\n",
    "        line=dict(color='rgb(0,100,80)'),\n",
    "        mode='lines'\n",
    "    ),\n",
    "    col=1,\n",
    "    row=1,\n",
    ").add_traces([\n",
    "        go.Scatter(\n",
    "            x=outputs.index,\n",
    "            y=outputs['mu'],\n",
    "            line=dict(color='rgb(0,100,80)'),\n",
    "            mode='lines'\n",
    "        ),\n",
    "        go.Scatter(\n",
    "            name='Upper Bound',\n",
    "            x=outputs.index,\n",
    "            y=outputs['upper_bound'],\n",
    "            mode='lines',\n",
    "            marker=dict(color=\"#444\"),\n",
    "            line=dict(width=0),\n",
    "            showlegend=False\n",
    "        ),\n",
    "        go.Scatter(\n",
    "            name='Lower Bound',\n",
    "            x=outputs.index,\n",
    "            y=outputs['lower_bound'],\n",
    "            marker=dict(color=\"#444\"),\n",
    "            line=dict(width=0),\n",
    "            mode='lines',\n",
    "            fillcolor='rgba(68, 68, 68, 0.3)',\n",
    "            fill='tonexty',\n",
    "            showlegend=False\n",
    "        ),\n",
    "        go.Scatter(\n",
    "            name='Target',\n",
    "            x=outputs.index[:-12],\n",
    "            y=ys[12:,0],\n",
    "            marker=dict(color=\"red\"),\n",
    "            mode='lines',\n",
    "        ),\n",
    "    ],\n",
    "    cols=[1,1,1,1],\n",
    "    rows=[2,2,2,2],\n",
    ").show()"
   ]
  },
  {
   "cell_type": "code",
   "execution_count": null,
   "id": "3377058c",
   "metadata": {},
   "outputs": [],
   "source": [
    "df = pd.DataFrame({'y_true': ys[:,0], 'y_pred': outputs.mu})\n",
    "px.scatter(df, x='y_true', y='y_pred', width=600, height=500, title='Predictions vs Observations')"
   ]
  },
  {
   "cell_type": "code",
   "execution_count": null,
   "id": "082b8d7a",
   "metadata": {},
   "outputs": [],
   "source": [
    "fig = plotly.subplots.make_subplots(\n",
    "    cols=2,\n",
    "    specs=[[{'type': 'scatter3d'}, {'type': 'scatter3d'}]],\n",
    "    column_titles=['mu embeddings', 'sigma embeddings'],\n",
    ").add_trace(px.scatter_3d(pd.concat([\n",
    "    pd.DataFrame(nn.get_layer('sequential_1').get_layer('variational_sampling_layer')(nn.get_layer('sequential')(xs)), columns=['x','y','z']),\n",
    "]), x='x', y='y', z='z', color=outputs['mu']).data[0], col=1, row=1\n",
    ").add_trace(px.scatter_3d(pd.concat([\n",
    "    pd.DataFrame(nn.get_layer('sequential_2').get_layer('variational_sampling_layer_1')(nn.get_layer('sequential')(xs)), columns=['x','y','z']),\n",
    "]), x='x', y='y', z='z', color=outputs['sigma']).data[0], col=2, row=1).update_layout(height=500, width=900)\n",
    "fig"
   ]
  },
  {
   "cell_type": "code",
   "execution_count": null,
   "id": "91f66874",
   "metadata": {},
   "outputs": [],
   "source": []
  }
 ],
 "metadata": {
  "kernelspec": {
   "display_name": "default",
   "language": "python",
   "name": "python3"
  },
  "language_info": {
   "codemirror_mode": {
    "name": "ipython",
    "version": 3
   },
   "file_extension": ".py",
   "mimetype": "text/x-python",
   "name": "python",
   "nbconvert_exporter": "python",
   "pygments_lexer": "ipython3",
   "version": "3.12.11"
  }
 },
 "nbformat": 4,
 "nbformat_minor": 5
}
